{
 "cells": [
  {
   "cell_type": "markdown",
   "id": "9df7da59",
   "metadata": {},
   "source": [
    "  #                                      PYTHON ASSIGNMENT"
   ]
  },
  {
   "cell_type": "markdown",
   "id": "aedb24d7",
   "metadata": {},
   "source": [
    "## Write a function called show stars(rows)"
   ]
  },
  {
   "cell_type": "code",
   "execution_count": 38,
   "id": "929e428a",
   "metadata": {},
   "outputs": [
    {
     "name": "stdout",
     "output_type": "stream",
     "text": [
      "* \r\n",
      "* * \r\n",
      "* * * \r\n",
      "* * * * \r\n",
      "* * * * * \r\n"
     ]
    }
   ],
   "source": [
    "row = 5\n",
    "for i in range(0, row):\n",
    "    for j in range(0, i + 1):\n",
    "        print(\"*\", end=' ')\n",
    "    print(\"\\r\")"
   ]
  },
  {
   "cell_type": "markdown",
   "id": "c08c73a2",
   "metadata": {},
   "source": [
    "## Write a program to remove characters from a string starting from zero up to n and return a new string"
   ]
  },
  {
   "cell_type": "code",
   "execution_count": 2,
   "id": "2f7a8051",
   "metadata": {},
   "outputs": [
    {
     "name": "stdout",
     "output_type": "stream",
     "text": [
      "Original String :  r#a@i!n&b;o!w@\n",
      "Resultant list is :  rainbow\n"
     ]
    }
   ],
   "source": [
    "sub = ['#', '@', '!', \"&\", \";\"]\n",
    "string = \"r#a@i!n&b;o!w@\"\n",
    "print (\"Original String : \" , string)\n",
    "for i in sub :\n",
    "    string = string.replace(i, '')\n",
    "print (\"Resultant list is : \" , str(string))"
   ]
  },
  {
   "cell_type": "markdown",
   "id": "1b0aff5b",
   "metadata": {},
   "source": [
    "## Iterate the given list of numbers and print only those numbers which are divisible by 5\n",
    "\n"
   ]
  },
  {
   "cell_type": "code",
   "execution_count": 3,
   "id": "c8dadfc9",
   "metadata": {},
   "outputs": [
    {
     "name": "stdout",
     "output_type": "stream",
     "text": [
      "the value is : 90\n",
      "the value is : 55\n",
      "the value is : 35\n"
     ]
    }
   ],
   "source": [
    "x=[33,87,90,55,35]\n",
    "for i in x:\n",
    "    if(i%5==0):\n",
    "        print('the value is :',i)\n",
    "    else :\n",
    "        continue"
   ]
  },
  {
   "cell_type": "markdown",
   "id": "ed11f7eb",
   "metadata": {},
   "source": [
    "## Write a program to find how many times substring “Hi” appears in the given string"
   ]
  },
  {
   "cell_type": "code",
   "execution_count": 4,
   "id": "93894677",
   "metadata": {},
   "outputs": [
    {
     "name": "stdout",
     "output_type": "stream",
     "text": [
      "enter the string:hi hi hi hi hi hi \n",
      "the number of times the word hi is displayed is :  6\n"
     ]
    }
   ],
   "source": [
    "sub=input(\"enter the string:\")\n",
    "print(\"the number of times the word hi is displayed is : \",sub.count('hi'))"
   ]
  },
  {
   "cell_type": "markdown",
   "id": "9c399faa",
   "metadata": {},
   "source": [
    "## Print the following pattern\n",
    "## 1 \n",
    "## 2 2 \n",
    "## 3 3 3 \n",
    "## 4 4 4 4 \n",
    "## 5 5 5 5 5\n"
   ]
  },
  {
   "cell_type": "code",
   "execution_count": 42,
   "id": "214be508",
   "metadata": {},
   "outputs": [
    {
     "name": "stdout",
     "output_type": "stream",
     "text": [
      "\n",
      "1 \n",
      "2 2 \n",
      "3 3 3 \n",
      "4 4 4 4 \n",
      "5 5 5 5 5 \n"
     ]
    }
   ],
   "source": [
    "row = 6\n",
    "for i in range(row):\n",
    "    \n",
    "    for j in range(i):\n",
    "        print(i, end=' ')\n",
    "    print('')"
   ]
  },
  {
   "cell_type": "markdown",
   "id": "b387324a",
   "metadata": {},
   "source": [
    "#                                              LIST"
   ]
  },
  {
   "cell_type": "markdown",
   "id": "9ba510c3",
   "metadata": {},
   "source": [
    "## Python program to interchange first and last elements in a list"
   ]
  },
  {
   "cell_type": "code",
   "execution_count": 7,
   "id": "93b669a1",
   "metadata": {},
   "outputs": [
    {
     "name": "stdout",
     "output_type": "stream",
     "text": [
      "[12, 98, 56, 34, 21]\n",
      "Swapped list:  [21, 98, 56, 34, 12]\n"
     ]
    }
   ],
   "source": [
    "def swapP(sl):\n",
    "    n = len(sl)\n",
    "      \n",
    "    # Swapping \n",
    "    temp = sl[0]\n",
    "    sl[0] = sl[n - 1]\n",
    "    sl[n - 1] = temp\n",
    "      \n",
    "    return sl\n",
    "      \n",
    "P = [12,98,56,34,21]\n",
    "\n",
    "print(P)\n",
    "print(\"Swapped list: \",swapP(P))"
   ]
  },
  {
   "cell_type": "markdown",
   "id": "7c03c2ba",
   "metadata": {},
   "source": [
    "## Python program to swap two elements in a list"
   ]
  },
  {
   "cell_type": "code",
   "execution_count": 8,
   "id": "1fad7a50",
   "metadata": {},
   "outputs": [
    {
     "name": "stdout",
     "output_type": "stream",
     "text": [
      "[10, 14, 5, 9, 56, 12]\n",
      "Swapped list:  [10, 14, 56, 9, 5, 12]\n"
     ]
    }
   ],
   "source": [
    "def swapL(sl,pos1,pos2):\n",
    "    n = len(sl)     \n",
    "    # Swapping \n",
    "    temp = sl[pos1]\n",
    "    sl[pos1] = sl[pos2]\n",
    "    sl[pos2] = temp\n",
    "    return sl      \n",
    "\n",
    "m= [10, 14, 5, 9, 56, 12]\n",
    "pos1= 3\n",
    "pos2= 5\n",
    "\n",
    "print(m)\n",
    "print(\"Swapped list: \",swapL(m,pos1-1,pos2-1))\n"
   ]
  },
  {
   "cell_type": "markdown",
   "id": "584414b7",
   "metadata": {},
   "source": [
    "## Python  Ways to find length of list"
   ]
  },
  {
   "cell_type": "code",
   "execution_count": 10,
   "id": "5100150c",
   "metadata": {},
   "outputs": [
    {
     "name": "stdout",
     "output_type": "stream",
     "text": [
      "4\n"
     ]
    }
   ],
   "source": [
    "var = ['cricket','badminton','hockey','football']\n",
    "size = len(var)\n",
    "print(size)"
   ]
  },
  {
   "cell_type": "markdown",
   "id": "d5b51886",
   "metadata": {},
   "source": [
    "## Maximum of two numbers in Python"
   ]
  },
  {
   "cell_type": "code",
   "execution_count": 11,
   "id": "baaa9828",
   "metadata": {},
   "outputs": [
    {
     "name": "stdout",
     "output_type": "stream",
     "text": [
      "67\n"
     ]
    }
   ],
   "source": [
    "n = [0,8,5,3,67]\n",
    "\n",
    "  \n",
    "maxi = max(n )\n",
    "print(maxi)"
   ]
  },
  {
   "cell_type": "markdown",
   "id": "04b95df5",
   "metadata": {},
   "source": [
    "## Minimum of two numbers in Python"
   ]
  },
  {
   "cell_type": "code",
   "execution_count": 12,
   "id": "fd5b1864",
   "metadata": {},
   "outputs": [
    {
     "name": "stdout",
     "output_type": "stream",
     "text": [
      "23\n"
     ]
    }
   ],
   "source": [
    "n = [390,456,83,23]\n",
    "\n",
    "  \n",
    "mini = min(n)\n",
    "print(mini)"
   ]
  },
  {
   "cell_type": "markdown",
   "id": "2770ae2d",
   "metadata": {},
   "source": [
    "## STRING"
   ]
  },
  {
   "cell_type": "markdown",
   "id": "7434864b",
   "metadata": {},
   "source": [
    "## Python program to check whether the string is Symmetrical or Palindrome"
   ]
  },
  {
   "cell_type": "code",
   "execution_count": 16,
   "id": "af591a7a",
   "metadata": {},
   "outputs": [
    {
     "name": "stdout",
     "output_type": "stream",
     "text": [
      "enter the string:well\n",
      "it is not a pallindrome\n"
     ]
    }
   ],
   "source": [
    "inp=(input(\"enter the string:\"))\n",
    "a=n[::-1]\n",
    "if a==n:\n",
    "    print('the given string is a pallindrome')\n",
    "else:\n",
    "    print('it is not a pallindrome')\n"
   ]
  },
  {
   "cell_type": "markdown",
   "id": "21998d0b",
   "metadata": {},
   "source": [
    "## Reverse words in a given String in Python"
   ]
  },
  {
   "cell_type": "code",
   "execution_count": 17,
   "id": "56e7f2b8",
   "metadata": {},
   "outputs": [
    {
     "name": "stdout",
     "output_type": "stream",
     "text": [
      "Everyone! Hey\n"
     ]
    }
   ],
   "source": [
    "string = \"Hey Everyone!\"\n",
    "\n",
    "n = string.split()[::-1]\n",
    "l = []\n",
    "for i in n:\n",
    "    \n",
    "    l.append(i)\n",
    "\n",
    "print(\" \".join(l))"
   ]
  },
  {
   "cell_type": "markdown",
   "id": "24a309e3",
   "metadata": {},
   "source": [
    "## Ways to remove i’th character from string in Python"
   ]
  },
  {
   "cell_type": "code",
   "execution_count": 19,
   "id": "b1b548c0",
   "metadata": {},
   "outputs": [
    {
     "name": "stdout",
     "output_type": "stream",
     "text": [
      "Enter a string ::priya\n",
      "Enter the index to remove ::3\n",
      "The new string is ::\n",
      "pria\n"
     ]
    }
   ],
   "source": [
    "def removechar(str1, n): \n",
    "   x = str1[ : n]   \n",
    "   y = str1[n + 1: ]\n",
    "   return x + y\n",
    "if __name__ == '__main__':\n",
    "   str1 = input(\"Enter a string ::\")\n",
    "   n = int(input(\"Enter the index to remove ::\"))\n",
    "   print(\"The new string is ::\")\n",
    "   print(removechar(str1, n))"
   ]
  },
  {
   "cell_type": "markdown",
   "id": "08474085",
   "metadata": {},
   "source": [
    "# TUPLE"
   ]
  },
  {
   "cell_type": "markdown",
   "id": "5aeb8e34",
   "metadata": {},
   "source": [
    "## Python program to Find the size of a Tuple"
   ]
  },
  {
   "cell_type": "code",
   "execution_count": 20,
   "id": "1c44acd7",
   "metadata": {},
   "outputs": [
    {
     "data": {
      "text/plain": [
       "72"
      ]
     },
     "execution_count": 20,
     "metadata": {},
     "output_type": "execute_result"
    }
   ],
   "source": [
    "n=(8,9,5,6,7,43)\n",
    "b=n.__sizeof__()\n",
    "b"
   ]
  },
  {
   "cell_type": "markdown",
   "id": "e79962bd",
   "metadata": {},
   "source": [
    "## Python – Maximum and Minimum K elements in Tuple"
   ]
  },
  {
   "cell_type": "code",
   "execution_count": 21,
   "id": "659dc034",
   "metadata": {},
   "outputs": [
    {
     "name": "stdout",
     "output_type": "stream",
     "text": [
      "8\n",
      "0\n"
     ]
    }
   ],
   "source": [
    "n=(0,8,5,3,6)\n",
    "x=max(n)\n",
    "y=min(n)\n",
    "print(x)\n",
    "print(y)"
   ]
  },
  {
   "cell_type": "markdown",
   "id": "0c4935e0",
   "metadata": {},
   "source": [
    "## Python – Sum of tuple elements"
   ]
  },
  {
   "cell_type": "code",
   "execution_count": 22,
   "id": "e610e10d",
   "metadata": {},
   "outputs": [
    {
     "name": "stdout",
     "output_type": "stream",
     "text": [
      "15\n"
     ]
    }
   ],
   "source": [
    "n=(5,3,4,3)\n",
    "a=sum(n)\n",
    "print(a)"
   ]
  },
  {
   "cell_type": "markdown",
   "id": "c1ec5347",
   "metadata": {},
   "source": [
    "## DICTIONARY"
   ]
  },
  {
   "cell_type": "markdown",
   "id": "b79002b2",
   "metadata": {},
   "source": [
    "## Python | Sort Python Dictionaries by Key or Value"
   ]
  },
  {
   "cell_type": "code",
   "execution_count": 23,
   "id": "81f11fdc",
   "metadata": {},
   "outputs": [
    {
     "name": "stdout",
     "output_type": "stream",
     "text": [
      "['key1', 'key2', 'key3']\n"
     ]
    }
   ],
   "source": [
    "#by keys\n",
    "\n",
    "d={\"key1\":\"2\",\"key3\":\"4\",\"key2\":\"1\"}\n",
    "print(sorted(d))\n"
   ]
  },
  {
   "cell_type": "code",
   "execution_count": 25,
   "id": "26fa6866",
   "metadata": {},
   "outputs": [
    {
     "name": "stdout",
     "output_type": "stream",
     "text": [
      "{2: 4, 17: 5, 1: 8}\n"
     ]
    }
   ],
   "source": [
    "#by values \n",
    "\n",
    "dict1 = {1: 8, 17: 5, 2: 4}\n",
    "sorted_values = sorted(dict1.values()) \n",
    "sorted_dict = {}\n",
    "\n",
    "for i in sorted_values:\n",
    "    for k in dict1.keys():\n",
    "        if dict1[k] == i:\n",
    "            sorted_dict[k] = dict1[k]\n",
    "            break\n",
    "\n",
    "print(sorted_dict)"
   ]
  },
  {
   "cell_type": "markdown",
   "id": "2b49ae6a",
   "metadata": {},
   "source": [
    "## Python dictionary with keys having multiple inputs"
   ]
  },
  {
   "cell_type": "code",
   "execution_count": 26,
   "id": "5464de1b",
   "metadata": {},
   "outputs": [
    {
     "name": "stdout",
     "output_type": "stream",
     "text": [
      "{(30, 45, 78): -3, (3, 5, 7): 1}\n"
     ]
    }
   ],
   "source": [
    "import random as r\n",
    "dict = {}\n",
    " \n",
    "x, y, z =30,45,78\n",
    "dict[x, y, z] = x + y - z;\n",
    " \n",
    "x, y, z = 3,5,7\n",
    "dict[x, y, z] = x + y - z;\n",
    " \n",
    "print(dict)"
   ]
  },
  {
   "cell_type": "markdown",
   "id": "edc18cec",
   "metadata": {},
   "source": [
    "# SET"
   ]
  },
  {
   "cell_type": "markdown",
   "id": "d324b7b1",
   "metadata": {},
   "source": [
    "## Find the size of a Set in Python"
   ]
  },
  {
   "cell_type": "code",
   "execution_count": 27,
   "id": "88b250f6",
   "metadata": {},
   "outputs": [
    {
     "data": {
      "text/plain": [
       "200"
      ]
     },
     "execution_count": 27,
     "metadata": {},
     "output_type": "execute_result"
    }
   ],
   "source": [
    "a={9,6,3,4}\n",
    "a.__sizeof__()"
   ]
  },
  {
   "cell_type": "markdown",
   "id": "f49b7b3d",
   "metadata": {},
   "source": [
    "## Iterate over a set in Python"
   ]
  },
  {
   "cell_type": "code",
   "execution_count": 28,
   "id": "22558f9f",
   "metadata": {},
   "outputs": [
    {
     "name": "stdout",
     "output_type": "stream",
     "text": [
      "the element is : 0\n",
      "the element is : 1\n",
      "the element is : 2\n",
      "the element is : 4\n",
      "the element is : 6\n",
      "the element is : 8\n"
     ]
    }
   ],
   "source": [
    "n={0,8,6,4,2,1}\n",
    "for i in n:\n",
    "    print('the element is :',i)"
   ]
  },
  {
   "cell_type": "markdown",
   "id": "aced0c38",
   "metadata": {},
   "source": [
    "# MATRIX"
   ]
  },
  {
   "cell_type": "markdown",
   "id": "df0ce33a",
   "metadata": {},
   "source": [
    "## Python – Assigning Subsequent Rows to Matrix first row elements"
   ]
  },
  {
   "cell_type": "code",
   "execution_count": 29,
   "id": "889e23cb",
   "metadata": {},
   "outputs": [
    {
     "name": "stdout",
     "output_type": "stream",
     "text": [
      "The original list :  [[2, 7, 8], [14, 13, 15], [7, 9, 6], [10, 11, 12]]\n",
      "The Assigned Matrix :  {2: [14, 13, 15], 7: [7, 9, 6], 8: [10, 11, 12]}\n"
     ]
    }
   ],
   "source": [
    "list = [[2,7,8], [14,13,15], [7,9,6], [10, 11, 12]]\n",
    "print(\"The original list : \",str(list))\n",
    "res = {list[0][ele] :  list[ele + 1] for ele in range(len(list) - 1)}\n",
    "print(\"The Assigned Matrix : \", str(res))"
   ]
  },
  {
   "cell_type": "markdown",
   "id": "ceeb41f5",
   "metadata": {},
   "source": [
    "## Adding and Subtracting Matrices in Python"
   ]
  },
  {
   "cell_type": "code",
   "execution_count": 30,
   "id": "c6f97a66",
   "metadata": {},
   "outputs": [
    {
     "name": "stdout",
     "output_type": "stream",
     "text": [
      "Printing elements of first matrix\n",
      "[[ 3  5]\n",
      " [24  9]]\n",
      "Printing elements of second matrix\n",
      "[[7 5]\n",
      " [9 7]]\n",
      "Addition of two matrix\n",
      "[[10 10]\n",
      " [33 16]]\n"
     ]
    }
   ],
   "source": [
    "import numpy as np\n",
    "A = np.array([[3,5], [24,9]])\n",
    "B = np.array([[7, 5], [9, 7]])\n",
    "print(\"Printing elements of first matrix\")\n",
    "print(A)\n",
    "print(\"Printing elements of second matrix\")\n",
    "print(B)\n",
    "print(\"Addition of two matrix\")\n",
    "print(np.add(A, B))"
   ]
  },
  {
   "cell_type": "markdown",
   "id": "46b1fa83",
   "metadata": {},
   "source": [
    "# FUNCTIONS"
   ]
  },
  {
   "cell_type": "markdown",
   "id": "6cfbc1f1",
   "metadata": {},
   "source": [
    "## How to get list of parameters name from a function in Python?"
   ]
  },
  {
   "cell_type": "code",
   "execution_count": 31,
   "id": "0b36c197",
   "metadata": {},
   "outputs": [
    {
     "name": "stdout",
     "output_type": "stream",
     "text": [
      "(a, c)\n"
     ]
    }
   ],
   "source": [
    "def fun(a,c\n",
    "       ):\n",
    "    return a**b \n",
    "import inspect  \n",
    "print(inspect.signature(fun))"
   ]
  },
  {
   "cell_type": "markdown",
   "id": "12de26b4",
   "metadata": {},
   "source": [
    "## How to Print Multiple Arguments in Python?"
   ]
  },
  {
   "cell_type": "code",
   "execution_count": 32,
   "id": "6ac6bac9",
   "metadata": {},
   "outputs": [
    {
     "name": "stdout",
     "output_type": "stream",
     "text": [
      "hello everyone,  welcome\n"
     ]
    }
   ],
   "source": [
    "def a(name, nam1):\n",
    "    print(\"hello\", name +', ' , nam1)\n",
    "a(\"everyone\", \"welcome\")"
   ]
  },
  {
   "cell_type": "code",
   "execution_count": null,
   "id": "aa686858",
   "metadata": {},
   "outputs": [],
   "source": []
  }
 ],
 "metadata": {
  "kernelspec": {
   "display_name": "Python 3 (ipykernel)",
   "language": "python",
   "name": "python3"
  },
  "language_info": {
   "codemirror_mode": {
    "name": "ipython",
    "version": 3
   },
   "file_extension": ".py",
   "mimetype": "text/x-python",
   "name": "python",
   "nbconvert_exporter": "python",
   "pygments_lexer": "ipython3",
   "version": "3.9.12"
  }
 },
 "nbformat": 4,
 "nbformat_minor": 5
}
